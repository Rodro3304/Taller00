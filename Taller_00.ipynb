{
  "nbformat": 4,
  "nbformat_minor": 0,
  "metadata": {
    "colab": {
      "provenance": [],
      "authorship_tag": "ABX9TyMzq4XeL+7QPMM1jGt5ON2J",
      "include_colab_link": true
    },
    "kernelspec": {
      "name": "python3",
      "display_name": "Python 3"
    },
    "language_info": {
      "name": "python"
    }
  },
  "cells": [
    {
      "cell_type": "markdown",
      "metadata": {
        "id": "view-in-github",
        "colab_type": "text"
      },
      "source": [
        "<a href=\"https://colab.research.google.com/github/Rodro3304/Taller00/blob/main/Taller_00.ipynb\" target=\"_parent\"><img src=\"https://colab.research.google.com/assets/colab-badge.svg\" alt=\"Open In Colab\"/></a>"
      ]
    },
    {
      "cell_type": "markdown",
      "source": [
        "#Titulo\n",
        "##subtitulo\n",
        "###subsubtitulo"
      ],
      "metadata": {
        "id": "x4ZDXjJiBFX4"
      }
    },
    {
      "cell_type": "markdown",
      "source": [
        "###Información agragada al archivo\n"
      ],
      "metadata": {
        "id": "yqzh1dIeG1iv"
      }
    },
    {
      "cell_type": "code",
      "execution_count": 3,
      "metadata": {
        "colab": {
          "base_uri": "https://localhost:8080/"
        },
        "id": "jFwBdlfr-BYt",
        "outputId": "26006fa5-d914-4bd3-e105-c5c0ef420ec2"
      },
      "outputs": [
        {
          "output_type": "stream",
          "name": "stdout",
          "text": [
            "Hola mundo\n",
            "Hola mundo\n"
          ]
        }
      ],
      "source": [
        "a = input()\n",
        "print(a)"
      ]
    }
  ]
}